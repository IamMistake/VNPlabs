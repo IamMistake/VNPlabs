{
 "nbformat": 4,
 "nbformat_minor": 0,
 "metadata": {
  "colab": {
   "provenance": []
  },
  "kernelspec": {
   "name": "python3",
   "display_name": "Python 3 (ipykernel)",
   "language": "python"
  },
  "language_info": {
   "name": "python"
  }
 },
 "cells": [
  {
   "cell_type": "markdown",
   "source": [
    "# Requirements"
   ],
   "metadata": {
    "id": "rODb9vHvIEbp"
   }
  },
  {
   "cell_type": "code",
   "source": [
    "\n",
    "import pandas as pd\n",
    "import seaborn as sns\n",
    "import matplotlib.pyplot as plt\n",
    "import missingno as msno\n",
    "from sklearn.impute import SimpleImputer\n",
    "from sklearn.impute import KNNImputer\n",
    "from sklearn.experimental import enable_iterative_imputer\n",
    "from sklearn.impute import IterativeImputer\n",
    "from sklearn.preprocessing import MinMaxScaler, OrdinalEncoder\n",
    "\n",
    "\n",
    "def missing_table(data: pd.DataFrame):\n",
    "    statistics_missing_table = data.isnull().sum().reset_index().rename(columns={\"index\": \"Feature\", 0: \"CountMissing\"})\n",
    "    percentage_missing = (\n",
    "        (statistics_missing_table[\"CountMissing\"] / len(data) * 100).reset_index()).reset_index().rename(\n",
    "        columns={\"CountMissing\": \"PercentageMissing\"})\n",
    "    statistics_missing_table[\"PercentageMissing\"] = percentage_missing[\"PercentageMissing\"]\n",
    "    statistics_missing_table[\"Total\"] = len(data)\n",
    "    return statistics_missing_table\n",
    "\n",
    "\n",
    "def balance_table(data: pd.DataFrame, target_column):\n",
    "    balance_table = data.groupby(target_column).size().reset_index().rename(\n",
    "        columns={target_column: \"Class\", 0: \"Count\"})\n",
    "    tmp = (balance_table[\"Count\"] / len(data) * 100).reset_index().rename(\n",
    "        columns={target_column: \"Class\", \"Count\": \"Percentage\"})\n",
    "    balance_table[\"Percentage\"] = tmp[\"Percentage\"]\n",
    "    balance_table[\"Total\"] = len(data)\n",
    "    return balance_table\n",
    "\n",
    "\n",
    "def get_numerical_features_names(data: pd.DataFrame):\n",
    "    result_columns = []\n",
    "    for column in data.columns:\n",
    "        if pd.api.types.is_any_real_numeric_dtype(data[column]):\n",
    "            result_columns.append(column)\n",
    "\n",
    "    return result_columns\n",
    "\n",
    "\n",
    "def get_categorical_features_names(data: pd.DataFrame, target_feature=None):\n",
    "    categorical_features = []\n",
    "    for column in data.columns:\n",
    "        if target_feature is not None and column == target_feature:\n",
    "            continue\n",
    "\n",
    "        if not pd.api.types.is_any_real_numeric_dtype(data[column]):\n",
    "            categorical_features.append(column)\n",
    "    return categorical_features\n",
    "\n",
    "\n",
    "def encode_data(data: pd.DataFrame, features_to_encode: list):\n",
    "    encoders = {}\n",
    "    data_copy = data.copy()\n",
    "    for feature in features_to_encode:\n",
    "        encoder = OrdinalEncoder()\n",
    "        data_copy[[feature]] = encoder.fit_transform(data_copy[[feature]])\n",
    "        encoders[feature] = encoder\n",
    "    return data_copy, encoders"
   ],
   "metadata": {
    "id": "U4KmHBd2cdx9",
    "ExecuteTime": {
     "end_time": "2024-12-03T08:44:25.823571Z",
     "start_time": "2024-12-03T08:44:25.714202Z"
    }
   },
   "outputs": [],
   "execution_count": 2
  },
  {
   "cell_type": "markdown",
   "source": [
    "# Laboratory Exercise - Run Mode (8 points)"
   ],
   "metadata": {
    "id": "KNMMoUiUIW3L"
   }
  },
  {
   "cell_type": "markdown",
   "source": [
    "## Introduction\n",
    "In this laboratory assignment, the focus is on time series forecasting, specifically targeting the prediction of the current **mean temperature** in the city of Delhi. Your task involves employing bagging and boosting methods to forecast the **mean temperature**. To accomplish this use data from the preceding three days, consisting of **mean temperature**, **humidity**, **wind speed**, and **mean pressure**.\n",
    "\n",
    "**Note: You are required to perform this laboratory assignment on your local machine.**"
   ],
   "metadata": {
    "id": "_rAh_91OIjeS"
   }
  },
  {
   "cell_type": "markdown",
   "source": [
    "## The Climate Dataset"
   ],
   "metadata": {
    "id": "zBYI-EypaWom"
   }
  },
  {
   "cell_type": "markdown",
   "source": [
    "## Downloading the Climate Dataset"
   ],
   "metadata": {
    "id": "IDW_23TIK6iv"
   }
  },
  {
   "cell_type": "markdown",
   "source": [
    "## Exploring the Climate Dataset\n",
    "This dataset consists of daily weather records for the city of Delhi spanning a period of 4 years (from 2013 to 2017). The dataset includes the following attributes:\n",
    "\n",
    "- date - date in the format YYYY-MM-DD,\n",
    "- meantemp - mean temperature averaged from multiple 3-hour intervals in a day,\n",
    "- humidity - humidity value for the day (measured in grams of water vapor per cubic meter volume of air),\n",
    "- wind_speed - wind speed measured in kilometers per hour, and\n",
    "- meanpressure - pressure reading of the weather (measured in atm).\n",
    "\n",
    "*Note: The dataset is complete, with no missing values in any of its entries.*"
   ],
   "metadata": {
    "id": "iAtPoYzAZo1v"
   }
  },
  {
   "cell_type": "markdown",
   "source": [
    "Load the dataset into a `pandas` data frame."
   ],
   "metadata": {
    "id": "DCm1qm1mZwMr"
   }
  },
  {
   "cell_type": "code",
   "source": [
    "# Write your code here. Add as many boxes as you need.\n",
    "df_original = pd.read_csv('climate-data.csv')\n",
    "df = df_original.copy()\n",
    "df.head(5)"
   ],
   "metadata": {
    "id": "KMOn4fgcZn8s",
    "ExecuteTime": {
     "end_time": "2024-12-03T08:59:18.778031Z",
     "start_time": "2024-12-03T08:59:18.746721Z"
    }
   },
   "outputs": [
    {
     "data": {
      "text/plain": [
       "         date   meantemp   humidity  wind_speed  meanpressure\n",
       "0  2013-01-01  10.000000  84.500000    0.000000   1015.666667\n",
       "1  2013-01-02   7.400000  92.000000    2.980000   1017.800000\n",
       "2  2013-01-03   7.166667  87.000000    4.633333   1018.666667\n",
       "3  2013-01-04   8.666667  71.333333    1.233333   1017.166667\n",
       "4  2013-01-05   6.000000  86.833333    3.700000   1016.500000"
      ],
      "text/html": [
       "<div>\n",
       "<style scoped>\n",
       "    .dataframe tbody tr th:only-of-type {\n",
       "        vertical-align: middle;\n",
       "    }\n",
       "\n",
       "    .dataframe tbody tr th {\n",
       "        vertical-align: top;\n",
       "    }\n",
       "\n",
       "    .dataframe thead th {\n",
       "        text-align: right;\n",
       "    }\n",
       "</style>\n",
       "<table border=\"1\" class=\"dataframe\">\n",
       "  <thead>\n",
       "    <tr style=\"text-align: right;\">\n",
       "      <th></th>\n",
       "      <th>date</th>\n",
       "      <th>meantemp</th>\n",
       "      <th>humidity</th>\n",
       "      <th>wind_speed</th>\n",
       "      <th>meanpressure</th>\n",
       "    </tr>\n",
       "  </thead>\n",
       "  <tbody>\n",
       "    <tr>\n",
       "      <th>0</th>\n",
       "      <td>2013-01-01</td>\n",
       "      <td>10.000000</td>\n",
       "      <td>84.500000</td>\n",
       "      <td>0.000000</td>\n",
       "      <td>1015.666667</td>\n",
       "    </tr>\n",
       "    <tr>\n",
       "      <th>1</th>\n",
       "      <td>2013-01-02</td>\n",
       "      <td>7.400000</td>\n",
       "      <td>92.000000</td>\n",
       "      <td>2.980000</td>\n",
       "      <td>1017.800000</td>\n",
       "    </tr>\n",
       "    <tr>\n",
       "      <th>2</th>\n",
       "      <td>2013-01-03</td>\n",
       "      <td>7.166667</td>\n",
       "      <td>87.000000</td>\n",
       "      <td>4.633333</td>\n",
       "      <td>1018.666667</td>\n",
       "    </tr>\n",
       "    <tr>\n",
       "      <th>3</th>\n",
       "      <td>2013-01-04</td>\n",
       "      <td>8.666667</td>\n",
       "      <td>71.333333</td>\n",
       "      <td>1.233333</td>\n",
       "      <td>1017.166667</td>\n",
       "    </tr>\n",
       "    <tr>\n",
       "      <th>4</th>\n",
       "      <td>2013-01-05</td>\n",
       "      <td>6.000000</td>\n",
       "      <td>86.833333</td>\n",
       "      <td>3.700000</td>\n",
       "      <td>1016.500000</td>\n",
       "    </tr>\n",
       "  </tbody>\n",
       "</table>\n",
       "</div>"
      ]
     },
     "execution_count": 32,
     "metadata": {},
     "output_type": "execute_result"
    }
   ],
   "execution_count": 32
  },
  {
   "metadata": {
    "ExecuteTime": {
     "end_time": "2024-12-03T09:09:36.129911Z",
     "start_time": "2024-12-03T09:09:35.348170Z"
    }
   },
   "cell_type": "code",
   "source": [
    "# plt.figure(figsize=(20,10))\n",
    "# sns.palplot(df)\n",
    "# plt.show()"
   ],
   "outputs": [
    {
     "data": {
      "text/plain": [
       "<Figure size 2000x1000 with 0 Axes>"
      ]
     },
     "metadata": {},
     "output_type": "display_data"
    },
    {
     "ename": "ValueError",
     "evalue": "Image size of 145900x100 pixels is too large. It must be less than 2^16 in each direction.",
     "output_type": "error",
     "traceback": [
      "\u001B[1;31m---------------------------------------------------------------------------\u001B[0m",
      "\u001B[1;31mValueError\u001B[0m                                Traceback (most recent call last)",
      "\u001B[1;32m~\\PycharmProjects\\pythonProject\\.venv\\lib\\site-packages\\IPython\\core\\formatters.py\u001B[0m in \u001B[0;36m__call__\u001B[1;34m(self, obj)\u001B[0m\n\u001B[0;32m    339\u001B[0m                 \u001B[1;32mpass\u001B[0m\u001B[1;33m\u001B[0m\u001B[0m\n\u001B[0;32m    340\u001B[0m             \u001B[1;32melse\u001B[0m\u001B[1;33m:\u001B[0m\u001B[1;33m\u001B[0m\u001B[0m\n\u001B[1;32m--> 341\u001B[1;33m                 \u001B[1;32mreturn\u001B[0m \u001B[0mprinter\u001B[0m\u001B[1;33m(\u001B[0m\u001B[0mobj\u001B[0m\u001B[1;33m)\u001B[0m\u001B[1;33m\u001B[0m\u001B[0m\n\u001B[0m\u001B[0;32m    342\u001B[0m             \u001B[1;31m# Finally look for special method names\u001B[0m\u001B[1;33m\u001B[0m\u001B[1;33m\u001B[0m\u001B[0m\n\u001B[0;32m    343\u001B[0m             \u001B[0mmethod\u001B[0m \u001B[1;33m=\u001B[0m \u001B[0mget_real_method\u001B[0m\u001B[1;33m(\u001B[0m\u001B[0mobj\u001B[0m\u001B[1;33m,\u001B[0m \u001B[0mself\u001B[0m\u001B[1;33m.\u001B[0m\u001B[0mprint_method\u001B[0m\u001B[1;33m)\u001B[0m\u001B[1;33m\u001B[0m\u001B[0m\n",
      "\u001B[1;32m~\\PycharmProjects\\pythonProject\\.venv\\lib\\site-packages\\IPython\\core\\pylabtools.py\u001B[0m in \u001B[0;36mprint_figure\u001B[1;34m(fig, fmt, bbox_inches, base64, **kwargs)\u001B[0m\n\u001B[0;32m    149\u001B[0m         \u001B[0mFigureCanvasBase\u001B[0m\u001B[1;33m(\u001B[0m\u001B[0mfig\u001B[0m\u001B[1;33m)\u001B[0m\u001B[1;33m\u001B[0m\u001B[0m\n\u001B[0;32m    150\u001B[0m \u001B[1;33m\u001B[0m\u001B[0m\n\u001B[1;32m--> 151\u001B[1;33m     \u001B[0mfig\u001B[0m\u001B[1;33m.\u001B[0m\u001B[0mcanvas\u001B[0m\u001B[1;33m.\u001B[0m\u001B[0mprint_figure\u001B[0m\u001B[1;33m(\u001B[0m\u001B[0mbytes_io\u001B[0m\u001B[1;33m,\u001B[0m \u001B[1;33m**\u001B[0m\u001B[0mkw\u001B[0m\u001B[1;33m)\u001B[0m\u001B[1;33m\u001B[0m\u001B[0m\n\u001B[0m\u001B[0;32m    152\u001B[0m     \u001B[0mdata\u001B[0m \u001B[1;33m=\u001B[0m \u001B[0mbytes_io\u001B[0m\u001B[1;33m.\u001B[0m\u001B[0mgetvalue\u001B[0m\u001B[1;33m(\u001B[0m\u001B[1;33m)\u001B[0m\u001B[1;33m\u001B[0m\u001B[0m\n\u001B[0;32m    153\u001B[0m     \u001B[1;32mif\u001B[0m \u001B[0mfmt\u001B[0m \u001B[1;33m==\u001B[0m \u001B[1;34m'svg'\u001B[0m\u001B[1;33m:\u001B[0m\u001B[1;33m\u001B[0m\u001B[0m\n",
      "\u001B[1;32m~\\PycharmProjects\\pythonProject\\.venv\\lib\\site-packages\\matplotlib\\backend_bases.py\u001B[0m in \u001B[0;36mprint_figure\u001B[1;34m(self, filename, dpi, facecolor, edgecolor, orientation, format, bbox_inches, pad_inches, bbox_extra_artists, backend, **kwargs)\u001B[0m\n\u001B[0;32m   2290\u001B[0m                     \u001B[0mself\u001B[0m\u001B[1;33m.\u001B[0m\u001B[0mfigure\u001B[0m\u001B[1;33m,\u001B[0m\u001B[1;33m\u001B[0m\u001B[0m\n\u001B[0;32m   2291\u001B[0m                     functools.partial(\n\u001B[1;32m-> 2292\u001B[1;33m                         print_method, orientation=orientation)\n\u001B[0m\u001B[0;32m   2293\u001B[0m                 )\n\u001B[0;32m   2294\u001B[0m                 \u001B[1;32mwith\u001B[0m \u001B[0mgetattr\u001B[0m\u001B[1;33m(\u001B[0m\u001B[0mrenderer\u001B[0m\u001B[1;33m,\u001B[0m \u001B[1;34m\"_draw_disabled\"\u001B[0m\u001B[1;33m,\u001B[0m \u001B[0mnullcontext\u001B[0m\u001B[1;33m)\u001B[0m\u001B[1;33m(\u001B[0m\u001B[1;33m)\u001B[0m\u001B[1;33m:\u001B[0m\u001B[1;33m\u001B[0m\u001B[0m\n",
      "\u001B[1;32m~\\PycharmProjects\\pythonProject\\.venv\\lib\\site-packages\\matplotlib\\backend_bases.py\u001B[0m in \u001B[0;36m_get_renderer\u001B[1;34m(figure, print_method)\u001B[0m\n\u001B[0;32m   1542\u001B[0m                 figure.canvas._get_output_canvas(None, fmt), f\"print_{fmt}\")\n\u001B[0;32m   1543\u001B[0m         \u001B[1;32mtry\u001B[0m\u001B[1;33m:\u001B[0m\u001B[1;33m\u001B[0m\u001B[0m\n\u001B[1;32m-> 1544\u001B[1;33m             \u001B[0mprint_method\u001B[0m\u001B[1;33m(\u001B[0m\u001B[0mio\u001B[0m\u001B[1;33m.\u001B[0m\u001B[0mBytesIO\u001B[0m\u001B[1;33m(\u001B[0m\u001B[1;33m)\u001B[0m\u001B[1;33m)\u001B[0m\u001B[1;33m\u001B[0m\u001B[0m\n\u001B[0m\u001B[0;32m   1545\u001B[0m         \u001B[1;32mexcept\u001B[0m \u001B[0mDone\u001B[0m \u001B[1;32mas\u001B[0m \u001B[0mexc\u001B[0m\u001B[1;33m:\u001B[0m\u001B[1;33m\u001B[0m\u001B[0m\n\u001B[0;32m   1546\u001B[0m             \u001B[0mrenderer\u001B[0m\u001B[1;33m,\u001B[0m \u001B[1;33m=\u001B[0m \u001B[0mfigure\u001B[0m\u001B[1;33m.\u001B[0m\u001B[0m_cachedRenderer\u001B[0m\u001B[1;33m,\u001B[0m \u001B[1;33m=\u001B[0m \u001B[0mexc\u001B[0m\u001B[1;33m.\u001B[0m\u001B[0margs\u001B[0m\u001B[1;33m\u001B[0m\u001B[0m\n",
      "\u001B[1;32m~\\PycharmProjects\\pythonProject\\.venv\\lib\\site-packages\\matplotlib\\backend_bases.py\u001B[0m in \u001B[0;36mwrapper\u001B[1;34m(*args, **kwargs)\u001B[0m\n\u001B[0;32m   1646\u001B[0m             \u001B[0mkwargs\u001B[0m\u001B[1;33m.\u001B[0m\u001B[0mpop\u001B[0m\u001B[1;33m(\u001B[0m\u001B[0marg\u001B[0m\u001B[1;33m)\u001B[0m\u001B[1;33m\u001B[0m\u001B[0m\n\u001B[0;32m   1647\u001B[0m \u001B[1;33m\u001B[0m\u001B[0m\n\u001B[1;32m-> 1648\u001B[1;33m         \u001B[1;32mreturn\u001B[0m \u001B[0mfunc\u001B[0m\u001B[1;33m(\u001B[0m\u001B[1;33m*\u001B[0m\u001B[0margs\u001B[0m\u001B[1;33m,\u001B[0m \u001B[1;33m**\u001B[0m\u001B[0mkwargs\u001B[0m\u001B[1;33m)\u001B[0m\u001B[1;33m\u001B[0m\u001B[0m\n\u001B[0m\u001B[0;32m   1649\u001B[0m \u001B[1;33m\u001B[0m\u001B[0m\n\u001B[0;32m   1650\u001B[0m     \u001B[1;32mreturn\u001B[0m \u001B[0mwrapper\u001B[0m\u001B[1;33m\u001B[0m\u001B[0m\n",
      "\u001B[1;32m~\\PycharmProjects\\pythonProject\\.venv\\lib\\site-packages\\matplotlib\\_api\\deprecation.py\u001B[0m in \u001B[0;36mwrapper\u001B[1;34m(*inner_args, **inner_kwargs)\u001B[0m\n\u001B[0;32m    413\u001B[0m                          \u001B[1;32melse\u001B[0m \u001B[0mdeprecation_addendum\u001B[0m\u001B[1;33m,\u001B[0m\u001B[1;33m\u001B[0m\u001B[0m\n\u001B[0;32m    414\u001B[0m                 **kwargs)\n\u001B[1;32m--> 415\u001B[1;33m         \u001B[1;32mreturn\u001B[0m \u001B[0mfunc\u001B[0m\u001B[1;33m(\u001B[0m\u001B[1;33m*\u001B[0m\u001B[0minner_args\u001B[0m\u001B[1;33m,\u001B[0m \u001B[1;33m**\u001B[0m\u001B[0minner_kwargs\u001B[0m\u001B[1;33m)\u001B[0m\u001B[1;33m\u001B[0m\u001B[0m\n\u001B[0m\u001B[0;32m    416\u001B[0m \u001B[1;33m\u001B[0m\u001B[0m\n\u001B[0;32m    417\u001B[0m     \u001B[0mDECORATORS\u001B[0m\u001B[1;33m[\u001B[0m\u001B[0mwrapper\u001B[0m\u001B[1;33m]\u001B[0m \u001B[1;33m=\u001B[0m \u001B[0mdecorator\u001B[0m\u001B[1;33m\u001B[0m\u001B[0m\n",
      "\u001B[1;32m~\\PycharmProjects\\pythonProject\\.venv\\lib\\site-packages\\matplotlib\\backends\\backend_agg.py\u001B[0m in \u001B[0;36mprint_png\u001B[1;34m(self, filename_or_obj, metadata, pil_kwargs, *args)\u001B[0m\n\u001B[0;32m    538\u001B[0m             \u001B[1;33m*\u001B[0m\u001B[0mmetadata\u001B[0m\u001B[1;33m*\u001B[0m\u001B[1;33m,\u001B[0m \u001B[0mincluding\u001B[0m \u001B[0mthe\u001B[0m \u001B[0mdefault\u001B[0m \u001B[1;34m'Software'\u001B[0m \u001B[0mkey\u001B[0m\u001B[1;33m.\u001B[0m\u001B[1;33m\u001B[0m\u001B[0m\n\u001B[0;32m    539\u001B[0m         \"\"\"\n\u001B[1;32m--> 540\u001B[1;33m         \u001B[0mFigureCanvasAgg\u001B[0m\u001B[1;33m.\u001B[0m\u001B[0mdraw\u001B[0m\u001B[1;33m(\u001B[0m\u001B[0mself\u001B[0m\u001B[1;33m)\u001B[0m\u001B[1;33m\u001B[0m\u001B[0m\n\u001B[0m\u001B[0;32m    541\u001B[0m         mpl.image.imsave(\n\u001B[0;32m    542\u001B[0m             \u001B[0mfilename_or_obj\u001B[0m\u001B[1;33m,\u001B[0m \u001B[0mself\u001B[0m\u001B[1;33m.\u001B[0m\u001B[0mbuffer_rgba\u001B[0m\u001B[1;33m(\u001B[0m\u001B[1;33m)\u001B[0m\u001B[1;33m,\u001B[0m \u001B[0mformat\u001B[0m\u001B[1;33m=\u001B[0m\u001B[1;34m\"png\"\u001B[0m\u001B[1;33m,\u001B[0m \u001B[0morigin\u001B[0m\u001B[1;33m=\u001B[0m\u001B[1;34m\"upper\"\u001B[0m\u001B[1;33m,\u001B[0m\u001B[1;33m\u001B[0m\u001B[0m\n",
      "\u001B[1;32m~\\PycharmProjects\\pythonProject\\.venv\\lib\\site-packages\\matplotlib\\backends\\backend_agg.py\u001B[0m in \u001B[0;36mdraw\u001B[1;34m(self)\u001B[0m\n\u001B[0;32m    429\u001B[0m     \u001B[1;32mdef\u001B[0m \u001B[0mdraw\u001B[0m\u001B[1;33m(\u001B[0m\u001B[0mself\u001B[0m\u001B[1;33m)\u001B[0m\u001B[1;33m:\u001B[0m\u001B[1;33m\u001B[0m\u001B[0m\n\u001B[0;32m    430\u001B[0m         \u001B[1;31m# docstring inherited\u001B[0m\u001B[1;33m\u001B[0m\u001B[1;33m\u001B[0m\u001B[0m\n\u001B[1;32m--> 431\u001B[1;33m         \u001B[0mself\u001B[0m\u001B[1;33m.\u001B[0m\u001B[0mrenderer\u001B[0m \u001B[1;33m=\u001B[0m \u001B[0mself\u001B[0m\u001B[1;33m.\u001B[0m\u001B[0mget_renderer\u001B[0m\u001B[1;33m(\u001B[0m\u001B[0mcleared\u001B[0m\u001B[1;33m=\u001B[0m\u001B[1;32mTrue\u001B[0m\u001B[1;33m)\u001B[0m\u001B[1;33m\u001B[0m\u001B[0m\n\u001B[0m\u001B[0;32m    432\u001B[0m         \u001B[1;31m# Acquire a lock on the shared font cache.\u001B[0m\u001B[1;33m\u001B[0m\u001B[1;33m\u001B[0m\u001B[0m\n\u001B[0;32m    433\u001B[0m         \u001B[1;32mwith\u001B[0m \u001B[0mRendererAgg\u001B[0m\u001B[1;33m.\u001B[0m\u001B[0mlock\u001B[0m\u001B[1;33m,\u001B[0m\u001B[0;31m \u001B[0m\u001B[0;31m\\\u001B[0m\u001B[1;33m\u001B[0m\u001B[0m\n",
      "\u001B[1;32m~\\PycharmProjects\\pythonProject\\.venv\\lib\\site-packages\\matplotlib\\backends\\backend_agg.py\u001B[0m in \u001B[0;36mget_renderer\u001B[1;34m(self, cleared)\u001B[0m\n\u001B[0;32m    445\u001B[0m                           and getattr(self, \"_lastKey\", None) == key)\n\u001B[0;32m    446\u001B[0m         \u001B[1;32mif\u001B[0m \u001B[1;32mnot\u001B[0m \u001B[0mreuse_renderer\u001B[0m\u001B[1;33m:\u001B[0m\u001B[1;33m\u001B[0m\u001B[0m\n\u001B[1;32m--> 447\u001B[1;33m             \u001B[0mself\u001B[0m\u001B[1;33m.\u001B[0m\u001B[0mrenderer\u001B[0m \u001B[1;33m=\u001B[0m \u001B[0mRendererAgg\u001B[0m\u001B[1;33m(\u001B[0m\u001B[0mw\u001B[0m\u001B[1;33m,\u001B[0m \u001B[0mh\u001B[0m\u001B[1;33m,\u001B[0m \u001B[0mself\u001B[0m\u001B[1;33m.\u001B[0m\u001B[0mfigure\u001B[0m\u001B[1;33m.\u001B[0m\u001B[0mdpi\u001B[0m\u001B[1;33m)\u001B[0m\u001B[1;33m\u001B[0m\u001B[0m\n\u001B[0m\u001B[0;32m    448\u001B[0m             \u001B[0mself\u001B[0m\u001B[1;33m.\u001B[0m\u001B[0m_lastKey\u001B[0m \u001B[1;33m=\u001B[0m \u001B[0mkey\u001B[0m\u001B[1;33m\u001B[0m\u001B[0m\n\u001B[0;32m    449\u001B[0m         \u001B[1;32melif\u001B[0m \u001B[0mcleared\u001B[0m\u001B[1;33m:\u001B[0m\u001B[1;33m\u001B[0m\u001B[0m\n",
      "\u001B[1;32m~\\PycharmProjects\\pythonProject\\.venv\\lib\\site-packages\\matplotlib\\backends\\backend_agg.py\u001B[0m in \u001B[0;36m__init__\u001B[1;34m(self, width, height, dpi)\u001B[0m\n\u001B[0;32m     91\u001B[0m         \u001B[0mself\u001B[0m\u001B[1;33m.\u001B[0m\u001B[0mwidth\u001B[0m \u001B[1;33m=\u001B[0m \u001B[0mwidth\u001B[0m\u001B[1;33m\u001B[0m\u001B[0m\n\u001B[0;32m     92\u001B[0m         \u001B[0mself\u001B[0m\u001B[1;33m.\u001B[0m\u001B[0mheight\u001B[0m \u001B[1;33m=\u001B[0m \u001B[0mheight\u001B[0m\u001B[1;33m\u001B[0m\u001B[0m\n\u001B[1;32m---> 93\u001B[1;33m         \u001B[0mself\u001B[0m\u001B[1;33m.\u001B[0m\u001B[0m_renderer\u001B[0m \u001B[1;33m=\u001B[0m \u001B[0m_RendererAgg\u001B[0m\u001B[1;33m(\u001B[0m\u001B[0mint\u001B[0m\u001B[1;33m(\u001B[0m\u001B[0mwidth\u001B[0m\u001B[1;33m)\u001B[0m\u001B[1;33m,\u001B[0m \u001B[0mint\u001B[0m\u001B[1;33m(\u001B[0m\u001B[0mheight\u001B[0m\u001B[1;33m)\u001B[0m\u001B[1;33m,\u001B[0m \u001B[0mdpi\u001B[0m\u001B[1;33m)\u001B[0m\u001B[1;33m\u001B[0m\u001B[0m\n\u001B[0m\u001B[0;32m     94\u001B[0m         \u001B[0mself\u001B[0m\u001B[1;33m.\u001B[0m\u001B[0m_filter_renderers\u001B[0m \u001B[1;33m=\u001B[0m \u001B[1;33m[\u001B[0m\u001B[1;33m]\u001B[0m\u001B[1;33m\u001B[0m\u001B[0m\n\u001B[0;32m     95\u001B[0m \u001B[1;33m\u001B[0m\u001B[0m\n",
      "\u001B[1;31mValueError\u001B[0m: Image size of 145900x100 pixels is too large. It must be less than 2^16 in each direction."
     ]
    },
    {
     "data": {
      "text/plain": [
       "<Figure size 145900x100 with 1 Axes>"
      ]
     },
     "metadata": {},
     "output_type": "display_data"
    }
   ],
   "execution_count": 53
  },
  {
   "metadata": {
    "ExecuteTime": {
     "end_time": "2024-12-03T08:59:18.856089Z",
     "start_time": "2024-12-03T08:59:18.824840Z"
    }
   },
   "cell_type": "code",
   "source": [
    "df = df.sort_values(by=['date'])\n",
    "df.head(20)"
   ],
   "outputs": [
    {
     "data": {
      "text/plain": [
       "          date   meantemp   humidity  wind_speed  meanpressure\n",
       "0   2013-01-01  10.000000  84.500000    0.000000   1015.666667\n",
       "1   2013-01-02   7.400000  92.000000    2.980000   1017.800000\n",
       "2   2013-01-03   7.166667  87.000000    4.633333   1018.666667\n",
       "3   2013-01-04   8.666667  71.333333    1.233333   1017.166667\n",
       "4   2013-01-05   6.000000  86.833333    3.700000   1016.500000\n",
       "5   2013-01-06   7.000000  82.800000    1.480000   1018.000000\n",
       "6   2013-01-07   7.000000  78.600000    6.300000   1020.000000\n",
       "7   2013-01-08   8.857143  63.714286    7.142857   1018.714286\n",
       "8   2013-01-09  14.000000  51.250000   12.500000   1017.000000\n",
       "9   2013-01-10  11.000000  62.000000    7.400000   1015.666667\n",
       "10  2013-01-11  15.714286  51.285714   10.571429   1016.142857\n",
       "11  2013-01-12  14.000000  74.000000   13.228571   1015.571429\n",
       "12  2013-01-13  15.833333  75.166667    4.633333   1013.333333\n",
       "13  2013-01-14  12.833333  88.166667    0.616667   1015.166667\n",
       "14  2013-01-15  14.714286  71.857143    0.528571   1015.857143\n",
       "15  2013-01-16  13.833333  86.666667    0.000000   1016.666667\n",
       "16  2013-01-17  16.500000  80.833333    5.250000   1015.833333\n",
       "17  2013-01-18  13.833333  92.166667    8.950000   1014.500000\n",
       "18  2013-01-19  12.500000  76.666667    5.883333   1021.666667\n",
       "19  2013-01-20  11.285714  75.285714    8.471429   1020.285714"
      ],
      "text/html": [
       "<div>\n",
       "<style scoped>\n",
       "    .dataframe tbody tr th:only-of-type {\n",
       "        vertical-align: middle;\n",
       "    }\n",
       "\n",
       "    .dataframe tbody tr th {\n",
       "        vertical-align: top;\n",
       "    }\n",
       "\n",
       "    .dataframe thead th {\n",
       "        text-align: right;\n",
       "    }\n",
       "</style>\n",
       "<table border=\"1\" class=\"dataframe\">\n",
       "  <thead>\n",
       "    <tr style=\"text-align: right;\">\n",
       "      <th></th>\n",
       "      <th>date</th>\n",
       "      <th>meantemp</th>\n",
       "      <th>humidity</th>\n",
       "      <th>wind_speed</th>\n",
       "      <th>meanpressure</th>\n",
       "    </tr>\n",
       "  </thead>\n",
       "  <tbody>\n",
       "    <tr>\n",
       "      <th>0</th>\n",
       "      <td>2013-01-01</td>\n",
       "      <td>10.000000</td>\n",
       "      <td>84.500000</td>\n",
       "      <td>0.000000</td>\n",
       "      <td>1015.666667</td>\n",
       "    </tr>\n",
       "    <tr>\n",
       "      <th>1</th>\n",
       "      <td>2013-01-02</td>\n",
       "      <td>7.400000</td>\n",
       "      <td>92.000000</td>\n",
       "      <td>2.980000</td>\n",
       "      <td>1017.800000</td>\n",
       "    </tr>\n",
       "    <tr>\n",
       "      <th>2</th>\n",
       "      <td>2013-01-03</td>\n",
       "      <td>7.166667</td>\n",
       "      <td>87.000000</td>\n",
       "      <td>4.633333</td>\n",
       "      <td>1018.666667</td>\n",
       "    </tr>\n",
       "    <tr>\n",
       "      <th>3</th>\n",
       "      <td>2013-01-04</td>\n",
       "      <td>8.666667</td>\n",
       "      <td>71.333333</td>\n",
       "      <td>1.233333</td>\n",
       "      <td>1017.166667</td>\n",
       "    </tr>\n",
       "    <tr>\n",
       "      <th>4</th>\n",
       "      <td>2013-01-05</td>\n",
       "      <td>6.000000</td>\n",
       "      <td>86.833333</td>\n",
       "      <td>3.700000</td>\n",
       "      <td>1016.500000</td>\n",
       "    </tr>\n",
       "    <tr>\n",
       "      <th>5</th>\n",
       "      <td>2013-01-06</td>\n",
       "      <td>7.000000</td>\n",
       "      <td>82.800000</td>\n",
       "      <td>1.480000</td>\n",
       "      <td>1018.000000</td>\n",
       "    </tr>\n",
       "    <tr>\n",
       "      <th>6</th>\n",
       "      <td>2013-01-07</td>\n",
       "      <td>7.000000</td>\n",
       "      <td>78.600000</td>\n",
       "      <td>6.300000</td>\n",
       "      <td>1020.000000</td>\n",
       "    </tr>\n",
       "    <tr>\n",
       "      <th>7</th>\n",
       "      <td>2013-01-08</td>\n",
       "      <td>8.857143</td>\n",
       "      <td>63.714286</td>\n",
       "      <td>7.142857</td>\n",
       "      <td>1018.714286</td>\n",
       "    </tr>\n",
       "    <tr>\n",
       "      <th>8</th>\n",
       "      <td>2013-01-09</td>\n",
       "      <td>14.000000</td>\n",
       "      <td>51.250000</td>\n",
       "      <td>12.500000</td>\n",
       "      <td>1017.000000</td>\n",
       "    </tr>\n",
       "    <tr>\n",
       "      <th>9</th>\n",
       "      <td>2013-01-10</td>\n",
       "      <td>11.000000</td>\n",
       "      <td>62.000000</td>\n",
       "      <td>7.400000</td>\n",
       "      <td>1015.666667</td>\n",
       "    </tr>\n",
       "    <tr>\n",
       "      <th>10</th>\n",
       "      <td>2013-01-11</td>\n",
       "      <td>15.714286</td>\n",
       "      <td>51.285714</td>\n",
       "      <td>10.571429</td>\n",
       "      <td>1016.142857</td>\n",
       "    </tr>\n",
       "    <tr>\n",
       "      <th>11</th>\n",
       "      <td>2013-01-12</td>\n",
       "      <td>14.000000</td>\n",
       "      <td>74.000000</td>\n",
       "      <td>13.228571</td>\n",
       "      <td>1015.571429</td>\n",
       "    </tr>\n",
       "    <tr>\n",
       "      <th>12</th>\n",
       "      <td>2013-01-13</td>\n",
       "      <td>15.833333</td>\n",
       "      <td>75.166667</td>\n",
       "      <td>4.633333</td>\n",
       "      <td>1013.333333</td>\n",
       "    </tr>\n",
       "    <tr>\n",
       "      <th>13</th>\n",
       "      <td>2013-01-14</td>\n",
       "      <td>12.833333</td>\n",
       "      <td>88.166667</td>\n",
       "      <td>0.616667</td>\n",
       "      <td>1015.166667</td>\n",
       "    </tr>\n",
       "    <tr>\n",
       "      <th>14</th>\n",
       "      <td>2013-01-15</td>\n",
       "      <td>14.714286</td>\n",
       "      <td>71.857143</td>\n",
       "      <td>0.528571</td>\n",
       "      <td>1015.857143</td>\n",
       "    </tr>\n",
       "    <tr>\n",
       "      <th>15</th>\n",
       "      <td>2013-01-16</td>\n",
       "      <td>13.833333</td>\n",
       "      <td>86.666667</td>\n",
       "      <td>0.000000</td>\n",
       "      <td>1016.666667</td>\n",
       "    </tr>\n",
       "    <tr>\n",
       "      <th>16</th>\n",
       "      <td>2013-01-17</td>\n",
       "      <td>16.500000</td>\n",
       "      <td>80.833333</td>\n",
       "      <td>5.250000</td>\n",
       "      <td>1015.833333</td>\n",
       "    </tr>\n",
       "    <tr>\n",
       "      <th>17</th>\n",
       "      <td>2013-01-18</td>\n",
       "      <td>13.833333</td>\n",
       "      <td>92.166667</td>\n",
       "      <td>8.950000</td>\n",
       "      <td>1014.500000</td>\n",
       "    </tr>\n",
       "    <tr>\n",
       "      <th>18</th>\n",
       "      <td>2013-01-19</td>\n",
       "      <td>12.500000</td>\n",
       "      <td>76.666667</td>\n",
       "      <td>5.883333</td>\n",
       "      <td>1021.666667</td>\n",
       "    </tr>\n",
       "    <tr>\n",
       "      <th>19</th>\n",
       "      <td>2013-01-20</td>\n",
       "      <td>11.285714</td>\n",
       "      <td>75.285714</td>\n",
       "      <td>8.471429</td>\n",
       "      <td>1020.285714</td>\n",
       "    </tr>\n",
       "  </tbody>\n",
       "</table>\n",
       "</div>"
      ]
     },
     "execution_count": 33,
     "metadata": {},
     "output_type": "execute_result"
    }
   ],
   "execution_count": 33
  },
  {
   "cell_type": "markdown",
   "source": [
    "Explore the dataset using visualizations of your choice."
   ],
   "metadata": {
    "id": "5slwyyhCKRo9"
   }
  },
  {
   "cell_type": "markdown",
   "source": [
    "# Feauture Extraction\n",
    "Apply a lag of one, two, and three days to each feature, creating a set of features representing the meteorological conditions from the previous three days. To maintain dataset integrity, eliminate any resulting missing values at the beginning of the dataset.\n",
    "\n",
    "Hint: Use `df['column_name'].shift(period)`. Check the documentation at https://pandas.pydata.org/docs/reference/api/pandas.DataFrame.shift.html."
   ],
   "metadata": {
    "id": "hZceBEFuiGpI"
   }
  },
  {
   "metadata": {
    "ExecuteTime": {
     "end_time": "2024-12-03T08:59:43.429107Z",
     "start_time": "2024-12-03T08:59:43.413534Z"
    }
   },
   "cell_type": "code",
   "source": "df.columns[1:]",
   "outputs": [
    {
     "data": {
      "text/plain": [
       "Index(['meantemp', 'humidity', 'wind_speed', 'meanpressure'], dtype='object')"
      ]
     },
     "execution_count": 38,
     "metadata": {},
     "output_type": "execute_result"
    }
   ],
   "execution_count": 38
  },
  {
   "cell_type": "code",
   "source": [
    "# Write your code here. Add as many boxes as you need.\n",
    "for col in df.columns[1:]:\n",
    "    df[f'{col}_shift1'] = df[col].shift(1)\n",
    "    df[f'{col}_shift2'] = df[col].shift(2)\n",
    "    df[f'{col}_shift3'] = df[col].shift(3)\n",
    "\n",
    "df"
   ],
   "metadata": {
    "id": "qHwGg9ieiFL1",
    "ExecuteTime": {
     "end_time": "2024-12-03T09:00:35.822701Z",
     "start_time": "2024-12-03T09:00:35.791454Z"
    }
   },
   "outputs": [
    {
     "data": {
      "text/plain": [
       "            date   meantemp    humidity  wind_speed  meanpressure  \\\n",
       "0     2013-01-01  10.000000   84.500000    0.000000   1015.666667   \n",
       "1     2013-01-02   7.400000   92.000000    2.980000   1017.800000   \n",
       "2     2013-01-03   7.166667   87.000000    4.633333   1018.666667   \n",
       "3     2013-01-04   8.666667   71.333333    1.233333   1017.166667   \n",
       "4     2013-01-05   6.000000   86.833333    3.700000   1016.500000   \n",
       "...          ...        ...         ...         ...           ...   \n",
       "1457  2016-12-28  17.217391   68.043478    3.547826   1015.565217   \n",
       "1458  2016-12-29  15.238095   87.857143    6.000000   1016.904762   \n",
       "1459  2016-12-30  14.095238   89.666667    6.266667   1017.904762   \n",
       "1460  2016-12-31  15.052632   87.000000    7.325000   1016.100000   \n",
       "1461  2017-01-01  10.000000  100.000000    0.000000   1016.000000   \n",
       "\n",
       "      meantemp_shift1  meantemp_shift2  meantemp_shift3  humidity_shift1  \\\n",
       "0                 NaN              NaN              NaN              NaN   \n",
       "1           10.000000              NaN              NaN        84.500000   \n",
       "2            7.400000        10.000000              NaN        92.000000   \n",
       "3            7.166667         7.400000        10.000000        87.000000   \n",
       "4            8.666667         7.166667         7.400000        71.333333   \n",
       "...               ...              ...              ...              ...   \n",
       "1457        16.850000        17.142857        14.000000        67.550000   \n",
       "1458        17.217391        16.850000        17.142857        68.043478   \n",
       "1459        15.238095        17.217391        16.850000        87.857143   \n",
       "1460        14.095238        15.238095        17.217391        89.666667   \n",
       "1461        15.052632        14.095238        15.238095        87.000000   \n",
       "\n",
       "      humidity_shift2  humidity_shift3  wind_speed_shift1  wind_speed_shift2  \\\n",
       "0                 NaN              NaN                NaN                NaN   \n",
       "1                 NaN              NaN           0.000000                NaN   \n",
       "2           84.500000              NaN           2.980000           0.000000   \n",
       "3           92.000000        84.500000           4.633333           2.980000   \n",
       "4           87.000000        92.000000           1.233333           4.633333   \n",
       "...               ...              ...                ...                ...   \n",
       "1457        74.857143        94.300000           8.335000           8.784211   \n",
       "1458        67.550000        74.857143           3.547826           8.335000   \n",
       "1459        68.043478        67.550000           6.000000           3.547826   \n",
       "1460        87.857143        68.043478           6.266667           6.000000   \n",
       "1461        89.666667        87.857143           7.325000           6.266667   \n",
       "\n",
       "      wind_speed_shift3  meanpressure_shift1  meanpressure_shift2  \\\n",
       "0                   NaN                  NaN                  NaN   \n",
       "1                   NaN          1015.666667                  NaN   \n",
       "2                   NaN          1017.800000          1015.666667   \n",
       "3              0.000000          1018.666667          1017.800000   \n",
       "4              2.980000          1017.166667          1018.666667   \n",
       "...                 ...                  ...                  ...   \n",
       "1457           9.085000          1017.200000          1016.952381   \n",
       "1458           8.784211          1015.565217          1017.200000   \n",
       "1459           8.335000          1016.904762          1015.565217   \n",
       "1460           3.547826          1017.904762          1016.904762   \n",
       "1461           6.000000          1016.100000          1017.904762   \n",
       "\n",
       "      meanpressure_shift3  \n",
       "0                     NaN  \n",
       "1                     NaN  \n",
       "2                     NaN  \n",
       "3             1015.666667  \n",
       "4             1017.800000  \n",
       "...                   ...  \n",
       "1457          1014.350000  \n",
       "1458          1016.952381  \n",
       "1459          1017.200000  \n",
       "1460          1015.565217  \n",
       "1461          1016.904762  \n",
       "\n",
       "[1462 rows x 17 columns]"
      ],
      "text/html": [
       "<div>\n",
       "<style scoped>\n",
       "    .dataframe tbody tr th:only-of-type {\n",
       "        vertical-align: middle;\n",
       "    }\n",
       "\n",
       "    .dataframe tbody tr th {\n",
       "        vertical-align: top;\n",
       "    }\n",
       "\n",
       "    .dataframe thead th {\n",
       "        text-align: right;\n",
       "    }\n",
       "</style>\n",
       "<table border=\"1\" class=\"dataframe\">\n",
       "  <thead>\n",
       "    <tr style=\"text-align: right;\">\n",
       "      <th></th>\n",
       "      <th>date</th>\n",
       "      <th>meantemp</th>\n",
       "      <th>humidity</th>\n",
       "      <th>wind_speed</th>\n",
       "      <th>meanpressure</th>\n",
       "      <th>meantemp_shift1</th>\n",
       "      <th>meantemp_shift2</th>\n",
       "      <th>meantemp_shift3</th>\n",
       "      <th>humidity_shift1</th>\n",
       "      <th>humidity_shift2</th>\n",
       "      <th>humidity_shift3</th>\n",
       "      <th>wind_speed_shift1</th>\n",
       "      <th>wind_speed_shift2</th>\n",
       "      <th>wind_speed_shift3</th>\n",
       "      <th>meanpressure_shift1</th>\n",
       "      <th>meanpressure_shift2</th>\n",
       "      <th>meanpressure_shift3</th>\n",
       "    </tr>\n",
       "  </thead>\n",
       "  <tbody>\n",
       "    <tr>\n",
       "      <th>0</th>\n",
       "      <td>2013-01-01</td>\n",
       "      <td>10.000000</td>\n",
       "      <td>84.500000</td>\n",
       "      <td>0.000000</td>\n",
       "      <td>1015.666667</td>\n",
       "      <td>NaN</td>\n",
       "      <td>NaN</td>\n",
       "      <td>NaN</td>\n",
       "      <td>NaN</td>\n",
       "      <td>NaN</td>\n",
       "      <td>NaN</td>\n",
       "      <td>NaN</td>\n",
       "      <td>NaN</td>\n",
       "      <td>NaN</td>\n",
       "      <td>NaN</td>\n",
       "      <td>NaN</td>\n",
       "      <td>NaN</td>\n",
       "    </tr>\n",
       "    <tr>\n",
       "      <th>1</th>\n",
       "      <td>2013-01-02</td>\n",
       "      <td>7.400000</td>\n",
       "      <td>92.000000</td>\n",
       "      <td>2.980000</td>\n",
       "      <td>1017.800000</td>\n",
       "      <td>10.000000</td>\n",
       "      <td>NaN</td>\n",
       "      <td>NaN</td>\n",
       "      <td>84.500000</td>\n",
       "      <td>NaN</td>\n",
       "      <td>NaN</td>\n",
       "      <td>0.000000</td>\n",
       "      <td>NaN</td>\n",
       "      <td>NaN</td>\n",
       "      <td>1015.666667</td>\n",
       "      <td>NaN</td>\n",
       "      <td>NaN</td>\n",
       "    </tr>\n",
       "    <tr>\n",
       "      <th>2</th>\n",
       "      <td>2013-01-03</td>\n",
       "      <td>7.166667</td>\n",
       "      <td>87.000000</td>\n",
       "      <td>4.633333</td>\n",
       "      <td>1018.666667</td>\n",
       "      <td>7.400000</td>\n",
       "      <td>10.000000</td>\n",
       "      <td>NaN</td>\n",
       "      <td>92.000000</td>\n",
       "      <td>84.500000</td>\n",
       "      <td>NaN</td>\n",
       "      <td>2.980000</td>\n",
       "      <td>0.000000</td>\n",
       "      <td>NaN</td>\n",
       "      <td>1017.800000</td>\n",
       "      <td>1015.666667</td>\n",
       "      <td>NaN</td>\n",
       "    </tr>\n",
       "    <tr>\n",
       "      <th>3</th>\n",
       "      <td>2013-01-04</td>\n",
       "      <td>8.666667</td>\n",
       "      <td>71.333333</td>\n",
       "      <td>1.233333</td>\n",
       "      <td>1017.166667</td>\n",
       "      <td>7.166667</td>\n",
       "      <td>7.400000</td>\n",
       "      <td>10.000000</td>\n",
       "      <td>87.000000</td>\n",
       "      <td>92.000000</td>\n",
       "      <td>84.500000</td>\n",
       "      <td>4.633333</td>\n",
       "      <td>2.980000</td>\n",
       "      <td>0.000000</td>\n",
       "      <td>1018.666667</td>\n",
       "      <td>1017.800000</td>\n",
       "      <td>1015.666667</td>\n",
       "    </tr>\n",
       "    <tr>\n",
       "      <th>4</th>\n",
       "      <td>2013-01-05</td>\n",
       "      <td>6.000000</td>\n",
       "      <td>86.833333</td>\n",
       "      <td>3.700000</td>\n",
       "      <td>1016.500000</td>\n",
       "      <td>8.666667</td>\n",
       "      <td>7.166667</td>\n",
       "      <td>7.400000</td>\n",
       "      <td>71.333333</td>\n",
       "      <td>87.000000</td>\n",
       "      <td>92.000000</td>\n",
       "      <td>1.233333</td>\n",
       "      <td>4.633333</td>\n",
       "      <td>2.980000</td>\n",
       "      <td>1017.166667</td>\n",
       "      <td>1018.666667</td>\n",
       "      <td>1017.800000</td>\n",
       "    </tr>\n",
       "    <tr>\n",
       "      <th>...</th>\n",
       "      <td>...</td>\n",
       "      <td>...</td>\n",
       "      <td>...</td>\n",
       "      <td>...</td>\n",
       "      <td>...</td>\n",
       "      <td>...</td>\n",
       "      <td>...</td>\n",
       "      <td>...</td>\n",
       "      <td>...</td>\n",
       "      <td>...</td>\n",
       "      <td>...</td>\n",
       "      <td>...</td>\n",
       "      <td>...</td>\n",
       "      <td>...</td>\n",
       "      <td>...</td>\n",
       "      <td>...</td>\n",
       "      <td>...</td>\n",
       "    </tr>\n",
       "    <tr>\n",
       "      <th>1457</th>\n",
       "      <td>2016-12-28</td>\n",
       "      <td>17.217391</td>\n",
       "      <td>68.043478</td>\n",
       "      <td>3.547826</td>\n",
       "      <td>1015.565217</td>\n",
       "      <td>16.850000</td>\n",
       "      <td>17.142857</td>\n",
       "      <td>14.000000</td>\n",
       "      <td>67.550000</td>\n",
       "      <td>74.857143</td>\n",
       "      <td>94.300000</td>\n",
       "      <td>8.335000</td>\n",
       "      <td>8.784211</td>\n",
       "      <td>9.085000</td>\n",
       "      <td>1017.200000</td>\n",
       "      <td>1016.952381</td>\n",
       "      <td>1014.350000</td>\n",
       "    </tr>\n",
       "    <tr>\n",
       "      <th>1458</th>\n",
       "      <td>2016-12-29</td>\n",
       "      <td>15.238095</td>\n",
       "      <td>87.857143</td>\n",
       "      <td>6.000000</td>\n",
       "      <td>1016.904762</td>\n",
       "      <td>17.217391</td>\n",
       "      <td>16.850000</td>\n",
       "      <td>17.142857</td>\n",
       "      <td>68.043478</td>\n",
       "      <td>67.550000</td>\n",
       "      <td>74.857143</td>\n",
       "      <td>3.547826</td>\n",
       "      <td>8.335000</td>\n",
       "      <td>8.784211</td>\n",
       "      <td>1015.565217</td>\n",
       "      <td>1017.200000</td>\n",
       "      <td>1016.952381</td>\n",
       "    </tr>\n",
       "    <tr>\n",
       "      <th>1459</th>\n",
       "      <td>2016-12-30</td>\n",
       "      <td>14.095238</td>\n",
       "      <td>89.666667</td>\n",
       "      <td>6.266667</td>\n",
       "      <td>1017.904762</td>\n",
       "      <td>15.238095</td>\n",
       "      <td>17.217391</td>\n",
       "      <td>16.850000</td>\n",
       "      <td>87.857143</td>\n",
       "      <td>68.043478</td>\n",
       "      <td>67.550000</td>\n",
       "      <td>6.000000</td>\n",
       "      <td>3.547826</td>\n",
       "      <td>8.335000</td>\n",
       "      <td>1016.904762</td>\n",
       "      <td>1015.565217</td>\n",
       "      <td>1017.200000</td>\n",
       "    </tr>\n",
       "    <tr>\n",
       "      <th>1460</th>\n",
       "      <td>2016-12-31</td>\n",
       "      <td>15.052632</td>\n",
       "      <td>87.000000</td>\n",
       "      <td>7.325000</td>\n",
       "      <td>1016.100000</td>\n",
       "      <td>14.095238</td>\n",
       "      <td>15.238095</td>\n",
       "      <td>17.217391</td>\n",
       "      <td>89.666667</td>\n",
       "      <td>87.857143</td>\n",
       "      <td>68.043478</td>\n",
       "      <td>6.266667</td>\n",
       "      <td>6.000000</td>\n",
       "      <td>3.547826</td>\n",
       "      <td>1017.904762</td>\n",
       "      <td>1016.904762</td>\n",
       "      <td>1015.565217</td>\n",
       "    </tr>\n",
       "    <tr>\n",
       "      <th>1461</th>\n",
       "      <td>2017-01-01</td>\n",
       "      <td>10.000000</td>\n",
       "      <td>100.000000</td>\n",
       "      <td>0.000000</td>\n",
       "      <td>1016.000000</td>\n",
       "      <td>15.052632</td>\n",
       "      <td>14.095238</td>\n",
       "      <td>15.238095</td>\n",
       "      <td>87.000000</td>\n",
       "      <td>89.666667</td>\n",
       "      <td>87.857143</td>\n",
       "      <td>7.325000</td>\n",
       "      <td>6.266667</td>\n",
       "      <td>6.000000</td>\n",
       "      <td>1016.100000</td>\n",
       "      <td>1017.904762</td>\n",
       "      <td>1016.904762</td>\n",
       "    </tr>\n",
       "  </tbody>\n",
       "</table>\n",
       "<p>1462 rows × 17 columns</p>\n",
       "</div>"
      ]
     },
     "execution_count": 42,
     "metadata": {},
     "output_type": "execute_result"
    }
   ],
   "execution_count": 42
  },
  {
   "metadata": {
    "ExecuteTime": {
     "end_time": "2024-12-03T09:01:12.948365Z",
     "start_time": "2024-12-03T09:01:12.917118Z"
    }
   },
   "cell_type": "code",
   "source": [
    "df = df.dropna(axis=0)\n",
    "df"
   ],
   "outputs": [
    {
     "data": {
      "text/plain": [
       "            date   meantemp    humidity  wind_speed  meanpressure  \\\n",
       "3     2013-01-04   8.666667   71.333333    1.233333   1017.166667   \n",
       "4     2013-01-05   6.000000   86.833333    3.700000   1016.500000   \n",
       "5     2013-01-06   7.000000   82.800000    1.480000   1018.000000   \n",
       "6     2013-01-07   7.000000   78.600000    6.300000   1020.000000   \n",
       "7     2013-01-08   8.857143   63.714286    7.142857   1018.714286   \n",
       "...          ...        ...         ...         ...           ...   \n",
       "1457  2016-12-28  17.217391   68.043478    3.547826   1015.565217   \n",
       "1458  2016-12-29  15.238095   87.857143    6.000000   1016.904762   \n",
       "1459  2016-12-30  14.095238   89.666667    6.266667   1017.904762   \n",
       "1460  2016-12-31  15.052632   87.000000    7.325000   1016.100000   \n",
       "1461  2017-01-01  10.000000  100.000000    0.000000   1016.000000   \n",
       "\n",
       "      meantemp_shift1  meantemp_shift2  meantemp_shift3  humidity_shift1  \\\n",
       "3            7.166667         7.400000        10.000000        87.000000   \n",
       "4            8.666667         7.166667         7.400000        71.333333   \n",
       "5            6.000000         8.666667         7.166667        86.833333   \n",
       "6            7.000000         6.000000         8.666667        82.800000   \n",
       "7            7.000000         7.000000         6.000000        78.600000   \n",
       "...               ...              ...              ...              ...   \n",
       "1457        16.850000        17.142857        14.000000        67.550000   \n",
       "1458        17.217391        16.850000        17.142857        68.043478   \n",
       "1459        15.238095        17.217391        16.850000        87.857143   \n",
       "1460        14.095238        15.238095        17.217391        89.666667   \n",
       "1461        15.052632        14.095238        15.238095        87.000000   \n",
       "\n",
       "      humidity_shift2  humidity_shift3  wind_speed_shift1  wind_speed_shift2  \\\n",
       "3           92.000000        84.500000           4.633333           2.980000   \n",
       "4           87.000000        92.000000           1.233333           4.633333   \n",
       "5           71.333333        87.000000           3.700000           1.233333   \n",
       "6           86.833333        71.333333           1.480000           3.700000   \n",
       "7           82.800000        86.833333           6.300000           1.480000   \n",
       "...               ...              ...                ...                ...   \n",
       "1457        74.857143        94.300000           8.335000           8.784211   \n",
       "1458        67.550000        74.857143           3.547826           8.335000   \n",
       "1459        68.043478        67.550000           6.000000           3.547826   \n",
       "1460        87.857143        68.043478           6.266667           6.000000   \n",
       "1461        89.666667        87.857143           7.325000           6.266667   \n",
       "\n",
       "      wind_speed_shift3  meanpressure_shift1  meanpressure_shift2  \\\n",
       "3              0.000000          1018.666667          1017.800000   \n",
       "4              2.980000          1017.166667          1018.666667   \n",
       "5              4.633333          1016.500000          1017.166667   \n",
       "6              1.233333          1018.000000          1016.500000   \n",
       "7              3.700000          1020.000000          1018.000000   \n",
       "...                 ...                  ...                  ...   \n",
       "1457           9.085000          1017.200000          1016.952381   \n",
       "1458           8.784211          1015.565217          1017.200000   \n",
       "1459           8.335000          1016.904762          1015.565217   \n",
       "1460           3.547826          1017.904762          1016.904762   \n",
       "1461           6.000000          1016.100000          1017.904762   \n",
       "\n",
       "      meanpressure_shift3  \n",
       "3             1015.666667  \n",
       "4             1017.800000  \n",
       "5             1018.666667  \n",
       "6             1017.166667  \n",
       "7             1016.500000  \n",
       "...                   ...  \n",
       "1457          1014.350000  \n",
       "1458          1016.952381  \n",
       "1459          1017.200000  \n",
       "1460          1015.565217  \n",
       "1461          1016.904762  \n",
       "\n",
       "[1459 rows x 17 columns]"
      ],
      "text/html": [
       "<div>\n",
       "<style scoped>\n",
       "    .dataframe tbody tr th:only-of-type {\n",
       "        vertical-align: middle;\n",
       "    }\n",
       "\n",
       "    .dataframe tbody tr th {\n",
       "        vertical-align: top;\n",
       "    }\n",
       "\n",
       "    .dataframe thead th {\n",
       "        text-align: right;\n",
       "    }\n",
       "</style>\n",
       "<table border=\"1\" class=\"dataframe\">\n",
       "  <thead>\n",
       "    <tr style=\"text-align: right;\">\n",
       "      <th></th>\n",
       "      <th>date</th>\n",
       "      <th>meantemp</th>\n",
       "      <th>humidity</th>\n",
       "      <th>wind_speed</th>\n",
       "      <th>meanpressure</th>\n",
       "      <th>meantemp_shift1</th>\n",
       "      <th>meantemp_shift2</th>\n",
       "      <th>meantemp_shift3</th>\n",
       "      <th>humidity_shift1</th>\n",
       "      <th>humidity_shift2</th>\n",
       "      <th>humidity_shift3</th>\n",
       "      <th>wind_speed_shift1</th>\n",
       "      <th>wind_speed_shift2</th>\n",
       "      <th>wind_speed_shift3</th>\n",
       "      <th>meanpressure_shift1</th>\n",
       "      <th>meanpressure_shift2</th>\n",
       "      <th>meanpressure_shift3</th>\n",
       "    </tr>\n",
       "  </thead>\n",
       "  <tbody>\n",
       "    <tr>\n",
       "      <th>3</th>\n",
       "      <td>2013-01-04</td>\n",
       "      <td>8.666667</td>\n",
       "      <td>71.333333</td>\n",
       "      <td>1.233333</td>\n",
       "      <td>1017.166667</td>\n",
       "      <td>7.166667</td>\n",
       "      <td>7.400000</td>\n",
       "      <td>10.000000</td>\n",
       "      <td>87.000000</td>\n",
       "      <td>92.000000</td>\n",
       "      <td>84.500000</td>\n",
       "      <td>4.633333</td>\n",
       "      <td>2.980000</td>\n",
       "      <td>0.000000</td>\n",
       "      <td>1018.666667</td>\n",
       "      <td>1017.800000</td>\n",
       "      <td>1015.666667</td>\n",
       "    </tr>\n",
       "    <tr>\n",
       "      <th>4</th>\n",
       "      <td>2013-01-05</td>\n",
       "      <td>6.000000</td>\n",
       "      <td>86.833333</td>\n",
       "      <td>3.700000</td>\n",
       "      <td>1016.500000</td>\n",
       "      <td>8.666667</td>\n",
       "      <td>7.166667</td>\n",
       "      <td>7.400000</td>\n",
       "      <td>71.333333</td>\n",
       "      <td>87.000000</td>\n",
       "      <td>92.000000</td>\n",
       "      <td>1.233333</td>\n",
       "      <td>4.633333</td>\n",
       "      <td>2.980000</td>\n",
       "      <td>1017.166667</td>\n",
       "      <td>1018.666667</td>\n",
       "      <td>1017.800000</td>\n",
       "    </tr>\n",
       "    <tr>\n",
       "      <th>5</th>\n",
       "      <td>2013-01-06</td>\n",
       "      <td>7.000000</td>\n",
       "      <td>82.800000</td>\n",
       "      <td>1.480000</td>\n",
       "      <td>1018.000000</td>\n",
       "      <td>6.000000</td>\n",
       "      <td>8.666667</td>\n",
       "      <td>7.166667</td>\n",
       "      <td>86.833333</td>\n",
       "      <td>71.333333</td>\n",
       "      <td>87.000000</td>\n",
       "      <td>3.700000</td>\n",
       "      <td>1.233333</td>\n",
       "      <td>4.633333</td>\n",
       "      <td>1016.500000</td>\n",
       "      <td>1017.166667</td>\n",
       "      <td>1018.666667</td>\n",
       "    </tr>\n",
       "    <tr>\n",
       "      <th>6</th>\n",
       "      <td>2013-01-07</td>\n",
       "      <td>7.000000</td>\n",
       "      <td>78.600000</td>\n",
       "      <td>6.300000</td>\n",
       "      <td>1020.000000</td>\n",
       "      <td>7.000000</td>\n",
       "      <td>6.000000</td>\n",
       "      <td>8.666667</td>\n",
       "      <td>82.800000</td>\n",
       "      <td>86.833333</td>\n",
       "      <td>71.333333</td>\n",
       "      <td>1.480000</td>\n",
       "      <td>3.700000</td>\n",
       "      <td>1.233333</td>\n",
       "      <td>1018.000000</td>\n",
       "      <td>1016.500000</td>\n",
       "      <td>1017.166667</td>\n",
       "    </tr>\n",
       "    <tr>\n",
       "      <th>7</th>\n",
       "      <td>2013-01-08</td>\n",
       "      <td>8.857143</td>\n",
       "      <td>63.714286</td>\n",
       "      <td>7.142857</td>\n",
       "      <td>1018.714286</td>\n",
       "      <td>7.000000</td>\n",
       "      <td>7.000000</td>\n",
       "      <td>6.000000</td>\n",
       "      <td>78.600000</td>\n",
       "      <td>82.800000</td>\n",
       "      <td>86.833333</td>\n",
       "      <td>6.300000</td>\n",
       "      <td>1.480000</td>\n",
       "      <td>3.700000</td>\n",
       "      <td>1020.000000</td>\n",
       "      <td>1018.000000</td>\n",
       "      <td>1016.500000</td>\n",
       "    </tr>\n",
       "    <tr>\n",
       "      <th>...</th>\n",
       "      <td>...</td>\n",
       "      <td>...</td>\n",
       "      <td>...</td>\n",
       "      <td>...</td>\n",
       "      <td>...</td>\n",
       "      <td>...</td>\n",
       "      <td>...</td>\n",
       "      <td>...</td>\n",
       "      <td>...</td>\n",
       "      <td>...</td>\n",
       "      <td>...</td>\n",
       "      <td>...</td>\n",
       "      <td>...</td>\n",
       "      <td>...</td>\n",
       "      <td>...</td>\n",
       "      <td>...</td>\n",
       "      <td>...</td>\n",
       "    </tr>\n",
       "    <tr>\n",
       "      <th>1457</th>\n",
       "      <td>2016-12-28</td>\n",
       "      <td>17.217391</td>\n",
       "      <td>68.043478</td>\n",
       "      <td>3.547826</td>\n",
       "      <td>1015.565217</td>\n",
       "      <td>16.850000</td>\n",
       "      <td>17.142857</td>\n",
       "      <td>14.000000</td>\n",
       "      <td>67.550000</td>\n",
       "      <td>74.857143</td>\n",
       "      <td>94.300000</td>\n",
       "      <td>8.335000</td>\n",
       "      <td>8.784211</td>\n",
       "      <td>9.085000</td>\n",
       "      <td>1017.200000</td>\n",
       "      <td>1016.952381</td>\n",
       "      <td>1014.350000</td>\n",
       "    </tr>\n",
       "    <tr>\n",
       "      <th>1458</th>\n",
       "      <td>2016-12-29</td>\n",
       "      <td>15.238095</td>\n",
       "      <td>87.857143</td>\n",
       "      <td>6.000000</td>\n",
       "      <td>1016.904762</td>\n",
       "      <td>17.217391</td>\n",
       "      <td>16.850000</td>\n",
       "      <td>17.142857</td>\n",
       "      <td>68.043478</td>\n",
       "      <td>67.550000</td>\n",
       "      <td>74.857143</td>\n",
       "      <td>3.547826</td>\n",
       "      <td>8.335000</td>\n",
       "      <td>8.784211</td>\n",
       "      <td>1015.565217</td>\n",
       "      <td>1017.200000</td>\n",
       "      <td>1016.952381</td>\n",
       "    </tr>\n",
       "    <tr>\n",
       "      <th>1459</th>\n",
       "      <td>2016-12-30</td>\n",
       "      <td>14.095238</td>\n",
       "      <td>89.666667</td>\n",
       "      <td>6.266667</td>\n",
       "      <td>1017.904762</td>\n",
       "      <td>15.238095</td>\n",
       "      <td>17.217391</td>\n",
       "      <td>16.850000</td>\n",
       "      <td>87.857143</td>\n",
       "      <td>68.043478</td>\n",
       "      <td>67.550000</td>\n",
       "      <td>6.000000</td>\n",
       "      <td>3.547826</td>\n",
       "      <td>8.335000</td>\n",
       "      <td>1016.904762</td>\n",
       "      <td>1015.565217</td>\n",
       "      <td>1017.200000</td>\n",
       "    </tr>\n",
       "    <tr>\n",
       "      <th>1460</th>\n",
       "      <td>2016-12-31</td>\n",
       "      <td>15.052632</td>\n",
       "      <td>87.000000</td>\n",
       "      <td>7.325000</td>\n",
       "      <td>1016.100000</td>\n",
       "      <td>14.095238</td>\n",
       "      <td>15.238095</td>\n",
       "      <td>17.217391</td>\n",
       "      <td>89.666667</td>\n",
       "      <td>87.857143</td>\n",
       "      <td>68.043478</td>\n",
       "      <td>6.266667</td>\n",
       "      <td>6.000000</td>\n",
       "      <td>3.547826</td>\n",
       "      <td>1017.904762</td>\n",
       "      <td>1016.904762</td>\n",
       "      <td>1015.565217</td>\n",
       "    </tr>\n",
       "    <tr>\n",
       "      <th>1461</th>\n",
       "      <td>2017-01-01</td>\n",
       "      <td>10.000000</td>\n",
       "      <td>100.000000</td>\n",
       "      <td>0.000000</td>\n",
       "      <td>1016.000000</td>\n",
       "      <td>15.052632</td>\n",
       "      <td>14.095238</td>\n",
       "      <td>15.238095</td>\n",
       "      <td>87.000000</td>\n",
       "      <td>89.666667</td>\n",
       "      <td>87.857143</td>\n",
       "      <td>7.325000</td>\n",
       "      <td>6.266667</td>\n",
       "      <td>6.000000</td>\n",
       "      <td>1016.100000</td>\n",
       "      <td>1017.904762</td>\n",
       "      <td>1016.904762</td>\n",
       "    </tr>\n",
       "  </tbody>\n",
       "</table>\n",
       "<p>1459 rows × 17 columns</p>\n",
       "</div>"
      ]
     },
     "execution_count": 43,
     "metadata": {},
     "output_type": "execute_result"
    }
   ],
   "execution_count": 43
  },
  {
   "cell_type": "markdown",
   "source": [
    "## Dataset Splitting\n",
    "Partition the dataset into training and testing sets with an 80:20 ratio.\n",
    "\n",
    "**WARNING: DO NOT SHUFFLE THE DATASET.**\n",
    "\n"
   ],
   "metadata": {
    "id": "tls69_PrbJKW"
   }
  },
  {
   "metadata": {
    "ExecuteTime": {
     "end_time": "2024-12-03T09:01:48.613081Z",
     "start_time": "2024-12-03T09:01:48.581838Z"
    }
   },
   "cell_type": "code",
   "source": [
    "df = df.drop(columns='date', axis=1)\n",
    "df"
   ],
   "outputs": [
    {
     "data": {
      "text/plain": [
       "       meantemp    humidity  wind_speed  meanpressure  meantemp_shift1  \\\n",
       "3      8.666667   71.333333    1.233333   1017.166667         7.166667   \n",
       "4      6.000000   86.833333    3.700000   1016.500000         8.666667   \n",
       "5      7.000000   82.800000    1.480000   1018.000000         6.000000   \n",
       "6      7.000000   78.600000    6.300000   1020.000000         7.000000   \n",
       "7      8.857143   63.714286    7.142857   1018.714286         7.000000   \n",
       "...         ...         ...         ...           ...              ...   \n",
       "1457  17.217391   68.043478    3.547826   1015.565217        16.850000   \n",
       "1458  15.238095   87.857143    6.000000   1016.904762        17.217391   \n",
       "1459  14.095238   89.666667    6.266667   1017.904762        15.238095   \n",
       "1460  15.052632   87.000000    7.325000   1016.100000        14.095238   \n",
       "1461  10.000000  100.000000    0.000000   1016.000000        15.052632   \n",
       "\n",
       "      meantemp_shift2  meantemp_shift3  humidity_shift1  humidity_shift2  \\\n",
       "3            7.400000        10.000000        87.000000        92.000000   \n",
       "4            7.166667         7.400000        71.333333        87.000000   \n",
       "5            8.666667         7.166667        86.833333        71.333333   \n",
       "6            6.000000         8.666667        82.800000        86.833333   \n",
       "7            7.000000         6.000000        78.600000        82.800000   \n",
       "...               ...              ...              ...              ...   \n",
       "1457        17.142857        14.000000        67.550000        74.857143   \n",
       "1458        16.850000        17.142857        68.043478        67.550000   \n",
       "1459        17.217391        16.850000        87.857143        68.043478   \n",
       "1460        15.238095        17.217391        89.666667        87.857143   \n",
       "1461        14.095238        15.238095        87.000000        89.666667   \n",
       "\n",
       "      humidity_shift3  wind_speed_shift1  wind_speed_shift2  \\\n",
       "3           84.500000           4.633333           2.980000   \n",
       "4           92.000000           1.233333           4.633333   \n",
       "5           87.000000           3.700000           1.233333   \n",
       "6           71.333333           1.480000           3.700000   \n",
       "7           86.833333           6.300000           1.480000   \n",
       "...               ...                ...                ...   \n",
       "1457        94.300000           8.335000           8.784211   \n",
       "1458        74.857143           3.547826           8.335000   \n",
       "1459        67.550000           6.000000           3.547826   \n",
       "1460        68.043478           6.266667           6.000000   \n",
       "1461        87.857143           7.325000           6.266667   \n",
       "\n",
       "      wind_speed_shift3  meanpressure_shift1  meanpressure_shift2  \\\n",
       "3              0.000000          1018.666667          1017.800000   \n",
       "4              2.980000          1017.166667          1018.666667   \n",
       "5              4.633333          1016.500000          1017.166667   \n",
       "6              1.233333          1018.000000          1016.500000   \n",
       "7              3.700000          1020.000000          1018.000000   \n",
       "...                 ...                  ...                  ...   \n",
       "1457           9.085000          1017.200000          1016.952381   \n",
       "1458           8.784211          1015.565217          1017.200000   \n",
       "1459           8.335000          1016.904762          1015.565217   \n",
       "1460           3.547826          1017.904762          1016.904762   \n",
       "1461           6.000000          1016.100000          1017.904762   \n",
       "\n",
       "      meanpressure_shift3  \n",
       "3             1015.666667  \n",
       "4             1017.800000  \n",
       "5             1018.666667  \n",
       "6             1017.166667  \n",
       "7             1016.500000  \n",
       "...                   ...  \n",
       "1457          1014.350000  \n",
       "1458          1016.952381  \n",
       "1459          1017.200000  \n",
       "1460          1015.565217  \n",
       "1461          1016.904762  \n",
       "\n",
       "[1459 rows x 16 columns]"
      ],
      "text/html": [
       "<div>\n",
       "<style scoped>\n",
       "    .dataframe tbody tr th:only-of-type {\n",
       "        vertical-align: middle;\n",
       "    }\n",
       "\n",
       "    .dataframe tbody tr th {\n",
       "        vertical-align: top;\n",
       "    }\n",
       "\n",
       "    .dataframe thead th {\n",
       "        text-align: right;\n",
       "    }\n",
       "</style>\n",
       "<table border=\"1\" class=\"dataframe\">\n",
       "  <thead>\n",
       "    <tr style=\"text-align: right;\">\n",
       "      <th></th>\n",
       "      <th>meantemp</th>\n",
       "      <th>humidity</th>\n",
       "      <th>wind_speed</th>\n",
       "      <th>meanpressure</th>\n",
       "      <th>meantemp_shift1</th>\n",
       "      <th>meantemp_shift2</th>\n",
       "      <th>meantemp_shift3</th>\n",
       "      <th>humidity_shift1</th>\n",
       "      <th>humidity_shift2</th>\n",
       "      <th>humidity_shift3</th>\n",
       "      <th>wind_speed_shift1</th>\n",
       "      <th>wind_speed_shift2</th>\n",
       "      <th>wind_speed_shift3</th>\n",
       "      <th>meanpressure_shift1</th>\n",
       "      <th>meanpressure_shift2</th>\n",
       "      <th>meanpressure_shift3</th>\n",
       "    </tr>\n",
       "  </thead>\n",
       "  <tbody>\n",
       "    <tr>\n",
       "      <th>3</th>\n",
       "      <td>8.666667</td>\n",
       "      <td>71.333333</td>\n",
       "      <td>1.233333</td>\n",
       "      <td>1017.166667</td>\n",
       "      <td>7.166667</td>\n",
       "      <td>7.400000</td>\n",
       "      <td>10.000000</td>\n",
       "      <td>87.000000</td>\n",
       "      <td>92.000000</td>\n",
       "      <td>84.500000</td>\n",
       "      <td>4.633333</td>\n",
       "      <td>2.980000</td>\n",
       "      <td>0.000000</td>\n",
       "      <td>1018.666667</td>\n",
       "      <td>1017.800000</td>\n",
       "      <td>1015.666667</td>\n",
       "    </tr>\n",
       "    <tr>\n",
       "      <th>4</th>\n",
       "      <td>6.000000</td>\n",
       "      <td>86.833333</td>\n",
       "      <td>3.700000</td>\n",
       "      <td>1016.500000</td>\n",
       "      <td>8.666667</td>\n",
       "      <td>7.166667</td>\n",
       "      <td>7.400000</td>\n",
       "      <td>71.333333</td>\n",
       "      <td>87.000000</td>\n",
       "      <td>92.000000</td>\n",
       "      <td>1.233333</td>\n",
       "      <td>4.633333</td>\n",
       "      <td>2.980000</td>\n",
       "      <td>1017.166667</td>\n",
       "      <td>1018.666667</td>\n",
       "      <td>1017.800000</td>\n",
       "    </tr>\n",
       "    <tr>\n",
       "      <th>5</th>\n",
       "      <td>7.000000</td>\n",
       "      <td>82.800000</td>\n",
       "      <td>1.480000</td>\n",
       "      <td>1018.000000</td>\n",
       "      <td>6.000000</td>\n",
       "      <td>8.666667</td>\n",
       "      <td>7.166667</td>\n",
       "      <td>86.833333</td>\n",
       "      <td>71.333333</td>\n",
       "      <td>87.000000</td>\n",
       "      <td>3.700000</td>\n",
       "      <td>1.233333</td>\n",
       "      <td>4.633333</td>\n",
       "      <td>1016.500000</td>\n",
       "      <td>1017.166667</td>\n",
       "      <td>1018.666667</td>\n",
       "    </tr>\n",
       "    <tr>\n",
       "      <th>6</th>\n",
       "      <td>7.000000</td>\n",
       "      <td>78.600000</td>\n",
       "      <td>6.300000</td>\n",
       "      <td>1020.000000</td>\n",
       "      <td>7.000000</td>\n",
       "      <td>6.000000</td>\n",
       "      <td>8.666667</td>\n",
       "      <td>82.800000</td>\n",
       "      <td>86.833333</td>\n",
       "      <td>71.333333</td>\n",
       "      <td>1.480000</td>\n",
       "      <td>3.700000</td>\n",
       "      <td>1.233333</td>\n",
       "      <td>1018.000000</td>\n",
       "      <td>1016.500000</td>\n",
       "      <td>1017.166667</td>\n",
       "    </tr>\n",
       "    <tr>\n",
       "      <th>7</th>\n",
       "      <td>8.857143</td>\n",
       "      <td>63.714286</td>\n",
       "      <td>7.142857</td>\n",
       "      <td>1018.714286</td>\n",
       "      <td>7.000000</td>\n",
       "      <td>7.000000</td>\n",
       "      <td>6.000000</td>\n",
       "      <td>78.600000</td>\n",
       "      <td>82.800000</td>\n",
       "      <td>86.833333</td>\n",
       "      <td>6.300000</td>\n",
       "      <td>1.480000</td>\n",
       "      <td>3.700000</td>\n",
       "      <td>1020.000000</td>\n",
       "      <td>1018.000000</td>\n",
       "      <td>1016.500000</td>\n",
       "    </tr>\n",
       "    <tr>\n",
       "      <th>...</th>\n",
       "      <td>...</td>\n",
       "      <td>...</td>\n",
       "      <td>...</td>\n",
       "      <td>...</td>\n",
       "      <td>...</td>\n",
       "      <td>...</td>\n",
       "      <td>...</td>\n",
       "      <td>...</td>\n",
       "      <td>...</td>\n",
       "      <td>...</td>\n",
       "      <td>...</td>\n",
       "      <td>...</td>\n",
       "      <td>...</td>\n",
       "      <td>...</td>\n",
       "      <td>...</td>\n",
       "      <td>...</td>\n",
       "    </tr>\n",
       "    <tr>\n",
       "      <th>1457</th>\n",
       "      <td>17.217391</td>\n",
       "      <td>68.043478</td>\n",
       "      <td>3.547826</td>\n",
       "      <td>1015.565217</td>\n",
       "      <td>16.850000</td>\n",
       "      <td>17.142857</td>\n",
       "      <td>14.000000</td>\n",
       "      <td>67.550000</td>\n",
       "      <td>74.857143</td>\n",
       "      <td>94.300000</td>\n",
       "      <td>8.335000</td>\n",
       "      <td>8.784211</td>\n",
       "      <td>9.085000</td>\n",
       "      <td>1017.200000</td>\n",
       "      <td>1016.952381</td>\n",
       "      <td>1014.350000</td>\n",
       "    </tr>\n",
       "    <tr>\n",
       "      <th>1458</th>\n",
       "      <td>15.238095</td>\n",
       "      <td>87.857143</td>\n",
       "      <td>6.000000</td>\n",
       "      <td>1016.904762</td>\n",
       "      <td>17.217391</td>\n",
       "      <td>16.850000</td>\n",
       "      <td>17.142857</td>\n",
       "      <td>68.043478</td>\n",
       "      <td>67.550000</td>\n",
       "      <td>74.857143</td>\n",
       "      <td>3.547826</td>\n",
       "      <td>8.335000</td>\n",
       "      <td>8.784211</td>\n",
       "      <td>1015.565217</td>\n",
       "      <td>1017.200000</td>\n",
       "      <td>1016.952381</td>\n",
       "    </tr>\n",
       "    <tr>\n",
       "      <th>1459</th>\n",
       "      <td>14.095238</td>\n",
       "      <td>89.666667</td>\n",
       "      <td>6.266667</td>\n",
       "      <td>1017.904762</td>\n",
       "      <td>15.238095</td>\n",
       "      <td>17.217391</td>\n",
       "      <td>16.850000</td>\n",
       "      <td>87.857143</td>\n",
       "      <td>68.043478</td>\n",
       "      <td>67.550000</td>\n",
       "      <td>6.000000</td>\n",
       "      <td>3.547826</td>\n",
       "      <td>8.335000</td>\n",
       "      <td>1016.904762</td>\n",
       "      <td>1015.565217</td>\n",
       "      <td>1017.200000</td>\n",
       "    </tr>\n",
       "    <tr>\n",
       "      <th>1460</th>\n",
       "      <td>15.052632</td>\n",
       "      <td>87.000000</td>\n",
       "      <td>7.325000</td>\n",
       "      <td>1016.100000</td>\n",
       "      <td>14.095238</td>\n",
       "      <td>15.238095</td>\n",
       "      <td>17.217391</td>\n",
       "      <td>89.666667</td>\n",
       "      <td>87.857143</td>\n",
       "      <td>68.043478</td>\n",
       "      <td>6.266667</td>\n",
       "      <td>6.000000</td>\n",
       "      <td>3.547826</td>\n",
       "      <td>1017.904762</td>\n",
       "      <td>1016.904762</td>\n",
       "      <td>1015.565217</td>\n",
       "    </tr>\n",
       "    <tr>\n",
       "      <th>1461</th>\n",
       "      <td>10.000000</td>\n",
       "      <td>100.000000</td>\n",
       "      <td>0.000000</td>\n",
       "      <td>1016.000000</td>\n",
       "      <td>15.052632</td>\n",
       "      <td>14.095238</td>\n",
       "      <td>15.238095</td>\n",
       "      <td>87.000000</td>\n",
       "      <td>89.666667</td>\n",
       "      <td>87.857143</td>\n",
       "      <td>7.325000</td>\n",
       "      <td>6.266667</td>\n",
       "      <td>6.000000</td>\n",
       "      <td>1016.100000</td>\n",
       "      <td>1017.904762</td>\n",
       "      <td>1016.904762</td>\n",
       "    </tr>\n",
       "  </tbody>\n",
       "</table>\n",
       "<p>1459 rows × 16 columns</p>\n",
       "</div>"
      ]
     },
     "execution_count": 44,
     "metadata": {},
     "output_type": "execute_result"
    }
   ],
   "execution_count": 44
  },
  {
   "cell_type": "code",
   "source": [
    "from sklearn.model_selection import train_test_split\n",
    "\n",
    "# Write your code here. Add as many boxes as you need.\n",
    "X = df.drop(columns='meantemp', axis=1)\n",
    "Y = df['meantemp']\n",
    "x_train, x_test, y_train, y_test = train_test_split(X,Y, random_state=0, shuffle=False, test_size=0.2)"
   ],
   "metadata": {
    "id": "PjGGGMxebeoB",
    "ExecuteTime": {
     "end_time": "2024-12-03T09:05:00.811601Z",
     "start_time": "2024-12-03T09:05:00.795982Z"
    }
   },
   "outputs": [],
   "execution_count": 45
  },
  {
   "cell_type": "markdown",
   "source": [
    "## Ensemble Learning Methods"
   ],
   "metadata": {
    "id": "VIkAR1Hibiwr"
   }
  },
  {
   "cell_type": "markdown",
   "source": [
    "### Bagging"
   ],
   "metadata": {
    "id": "-XPgBlD7jgI5"
   }
  },
  {
   "cell_type": "markdown",
   "source": [
    "Create an instance of a Random Forest model and train it using the `fit` function."
   ],
   "metadata": {
    "id": "qWn1pafKbnxH"
   }
  },
  {
   "cell_type": "code",
   "source": [
    "from sklearn.metrics import r2_score, mean_squared_error\n",
    "from sklearn.ensemble import RandomForestRegressor\n",
    "\n",
    "# Write your code here. Add as many boxes as you need.\n",
    "random = RandomForestRegressor()\n",
    "random.fit(x_train, y_train)\n",
    "pred1 = random.predict(x_test)\n",
    "r2_score(y_test, pred1)"
   ],
   "metadata": {
    "id": "IXFIrQthbnkb",
    "ExecuteTime": {
     "end_time": "2024-12-03T09:07:12.370186Z",
     "start_time": "2024-12-03T09:07:11.786909Z"
    }
   },
   "outputs": [
    {
     "data": {
      "text/plain": [
       "0.9370212886349112"
      ]
     },
     "execution_count": 47,
     "metadata": {},
     "output_type": "execute_result"
    }
   ],
   "execution_count": 47
  },
  {
   "metadata": {
    "ExecuteTime": {
     "end_time": "2024-12-03T09:07:21.688051Z",
     "start_time": "2024-12-03T09:07:21.672369Z"
    }
   },
   "cell_type": "code",
   "source": "# mean_squared_error(y_test, pred1)",
   "outputs": [],
   "execution_count": 49
  },
  {
   "cell_type": "markdown",
   "source": [
    "Use the trained model to make predictions for the test set."
   ],
   "metadata": {
    "id": "gyXZwAVab8Cp"
   }
  },
  {
   "cell_type": "code",
   "source": [
    "# Write your code here. Add as many boxes as you need."
   ],
   "metadata": {
    "id": "EvMfVum6b_9b"
   },
   "outputs": [],
   "execution_count": null
  },
  {
   "cell_type": "markdown",
   "source": [
    "Assess the performance of the model by using different metrics provided by the `scikit-learn` library."
   ],
   "metadata": {
    "id": "3VxAvDPtcNCh"
   }
  },
  {
   "cell_type": "code",
   "source": [
    "# Write your code here. Add as many boxes as you need."
   ],
   "metadata": {
    "id": "V4axpktycQhp"
   },
   "outputs": [],
   "execution_count": null
  },
  {
   "cell_type": "markdown",
   "source": [
    "### Boosting"
   ],
   "metadata": {
    "id": "4LF1v6lbjcGL"
   }
  },
  {
   "cell_type": "markdown",
   "source": [
    "Create an instance of an XGBoost model and train it using the `fit` function."
   ],
   "metadata": {
    "id": "VpuBInwyjkRr"
   }
  },
  {
   "cell_type": "code",
   "source": [
    "from xgboost import XGBRegressor\n",
    "\n",
    "# Write your code here. Add as many boxes as you need.\n",
    "xgb = XGBRegressor()\n",
    "xgb.fit(x_train, y_train)\n",
    "pred1 = xgb.predict(x_test)\n",
    "r2_score(y_test, pred1)"
   ],
   "metadata": {
    "id": "f7IPuXNMjb3K",
    "ExecuteTime": {
     "end_time": "2024-12-03T09:07:55.098737Z",
     "start_time": "2024-12-03T09:07:54.965784Z"
    }
   },
   "outputs": [
    {
     "data": {
      "text/plain": [
       "0.928485182381532"
      ]
     },
     "execution_count": 50,
     "metadata": {},
     "output_type": "execute_result"
    }
   ],
   "execution_count": 50
  },
  {
   "cell_type": "markdown",
   "source": [
    "Use the trained model to make predictions for the test set."
   ],
   "metadata": {
    "id": "30u245l0jnhE"
   }
  },
  {
   "cell_type": "code",
   "source": [
    "# Write your code here. Add as many boxes as you need."
   ],
   "metadata": {
    "id": "ykXWljGFjnDr"
   },
   "outputs": [],
   "execution_count": null
  },
  {
   "cell_type": "markdown",
   "source": [
    "Assess the performance of the model by using different metrics provided by the `scikit-learn` library."
   ],
   "metadata": {
    "id": "UWnX_tVNjqGl"
   }
  },
  {
   "cell_type": "code",
   "source": [
    "# Write your code here. Add as many boxes as you need."
   ],
   "metadata": {
    "id": "FNFvmZ0Zjp1X"
   },
   "outputs": [],
   "execution_count": null
  },
  {
   "cell_type": "markdown",
   "source": [
    "# Laboratory Exercise - Bonus Task (+ 2 points)"
   ],
   "metadata": {
    "id": "RwnD_qSpIeXG"
   }
  },
  {
   "cell_type": "markdown",
   "source": [
    "As part of the bonus task in this laboratory assignment, your objective is to fine-tune the number of estimators (`n_estimators`) for the XGBoost model using a cross-validation with grid search and time series split. This involves systematically experimenting with various values for `n_estimators` and evaluating the model's performance using cross-validation. Upon determining the most suitable `n_estimators` value, evaluate the model's performance on a test set for final assessment.\n",
    "\n",
    "Hints:\n",
    "- For grid search use the `GridCVSearch` from the `scikit-learn` library. Check the documentation at https://scikit-learn.org/stable/modules/generated/sklearn.model_selection.GridSearchCV.html.\n",
    "- For cross-validation use the `TimeSeriesSplit` from the `scikit-learn` library. Check the documentation at https://scikit-learn.org/stable/modules/generated/sklearn.model_selection.TimeSeriesSplit.html."
   ],
   "metadata": {
    "id": "lSTuVpyYd2is"
   }
  },
  {
   "cell_type": "markdown",
   "source": [
    "\n",
    "## Dataset Splitting\n",
    "Partition the dataset into training and testing sets with an 90:10 ratio.\n",
    "\n",
    "**WARNING: DO NOT SHUFFLE THE DATASET.**"
   ],
   "metadata": {
    "id": "yZriA4d4eWLJ"
   }
  },
  {
   "metadata": {
    "ExecuteTime": {
     "end_time": "2024-12-03T09:12:52.547667Z",
     "start_time": "2024-12-03T09:12:52.520966Z"
    }
   },
   "cell_type": "code",
   "source": [
    "from sklearn.model_selection import GridSearchCV, TimeSeriesSplit\n",
    "x_train, x_test, y_train, y_test = train_test_split(X,Y, random_state=0, shuffle=False, test_size=0.1)"
   ],
   "outputs": [],
   "execution_count": 55
  },
  {
   "cell_type": "code",
   "source": [
    "# Write your code here. Add as many boxes as you need.\n",
    "params = {\n",
    "    'n_estimators': [3, 5, 8, 10, 15, 30, 40, 50]\n",
    "}\n",
    "model = XGBRegressor()\n",
    "\n",
    "tscv = TimeSeriesSplit(n_splits=2)\n",
    "gsearch = GridSearchCV(estimator=model, cv=tscv,\n",
    "                        param_grid=params)\n",
    "gsearch.fit(x_train, y_train)\n",
    "gsearch.best_params_"
   ],
   "metadata": {
    "id": "ile-T3vmIfsm",
    "ExecuteTime": {
     "end_time": "2024-12-03T09:20:43.399810Z",
     "start_time": "2024-12-03T09:20:43.038355Z"
    }
   },
   "outputs": [
    {
     "data": {
      "text/plain": [
       "{'n_estimators': 30}"
      ]
     },
     "execution_count": 62,
     "metadata": {},
     "output_type": "execute_result"
    }
   ],
   "execution_count": 62
  },
  {
   "cell_type": "markdown",
   "source": [
    "## Fine-tuning the XGBoost Hyperparameter\n",
    "Experiment with various values for `n_estimators` and evaluate the model's performance using cross-validation."
   ],
   "metadata": {
    "id": "E9myidoNgjmy"
   }
  },
  {
   "cell_type": "code",
   "source": [
    "# Write your code here. Add as many boxes as you need.\n",
    "best = gsearch.best_estimator_\n",
    "pred = best.predict(x_test)\n",
    "r2_score(y_test, pred)"
   ],
   "metadata": {
    "id": "Vb5WJwEggm1f",
    "ExecuteTime": {
     "end_time": "2024-12-03T09:23:30.690093Z",
     "start_time": "2024-12-03T09:23:30.674475Z"
    }
   },
   "outputs": [
    {
     "data": {
      "text/plain": [
       "0.9439702103339025"
      ]
     },
     "execution_count": 63,
     "metadata": {},
     "output_type": "execute_result"
    }
   ],
   "execution_count": 63
  },
  {
   "cell_type": "markdown",
   "source": [
    "## Final Assessment of the Model Performance\n",
    "Upon determining the most suitable `n_estimators` value, evaluate the model's performance on a test set for final assessment."
   ],
   "metadata": {
    "id": "OzxTQJABiWAp"
   }
  },
  {
   "cell_type": "code",
   "source": [
    "# Write your code here. Add as many boxes as you need."
   ],
   "metadata": {
    "id": "oK__muPhicCr",
    "ExecuteTime": {
     "end_time": "2024-12-03T08:59:18.973118Z",
     "start_time": "2024-12-03T08:59:18.941869Z"
    }
   },
   "outputs": [],
   "execution_count": 37
  }
 ]
}
